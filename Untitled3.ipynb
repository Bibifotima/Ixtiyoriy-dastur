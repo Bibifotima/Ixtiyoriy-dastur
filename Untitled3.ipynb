{
  "nbformat": 4,
  "nbformat_minor": 0,
  "metadata": {
    "colab": {
      "provenance": []
    },
    "kernelspec": {
      "name": "python3",
      "display_name": "Python 3"
    },
    "language_info": {
      "name": "python"
    }
  },
  "cells": [
    {
      "cell_type": "code",
      "execution_count": 1,
      "metadata": {
        "colab": {
          "base_uri": "https://localhost:8080/"
        },
        "id": "lyA9_RpHbJcI",
        "outputId": "587089cd-dbe2-463e-9594-824627f67699"
      },
      "outputs": [
        {
          "output_type": "stream",
          "name": "stdout",
          "text": [
            "Iltimos, ikki son kiriting:\n",
            "Birinci sonni kiriting: 12\n",
            "Ikkinchi sonni kiriting: 15\n",
            "\n",
            "Amallar natijalari:\n",
            "Yig'indi: 27.0\n",
            "Ayrima: -3.0\n",
            "Ko'paytma: 180.0\n",
            "Bo'lish: 0.8\n"
          ]
        }
      ],
      "source": [
        "# Google Colabda ishlatiladigan dastur\n",
        "\n",
        "# Foydalanuvchidan ikkita sonni olish\n",
        "print(\"Iltimos, ikki son kiriting:\")\n",
        "\n",
        "son1 = float(input(\"Birinci sonni kiriting: \"))\n",
        "son2 = float(input(\"Ikkinchi sonni kiriting: \"))\n",
        "\n",
        "# Matematika amallari\n",
        "def matematik_amallar(a, b):\n",
        "    yigindi = a + b\n",
        "    ayirma = a - b\n",
        "    kopaytma = a * b\n",
        "    bolish = a / b if b != 0 else \"0 ga bo'lish mumkin emas\"\n",
        "\n",
        "    return yigindi, ayirma, kopaytma, bolish\n",
        "\n",
        "# Amallarni bajarish\n",
        "yigindi, ayirma, kopaytma, bolish = matematik_amallar(son1, son2)\n",
        "\n",
        "# Natijalarni chiqarish\n",
        "print(\"\\nAmallar natijalari:\")\n",
        "print(f\"Yig'indi: {yigindi}\")\n",
        "print(f\"Ayrima: {ayirma}\")\n",
        "print(f\"Ko'paytma: {kopaytma}\")\n",
        "print(f\"Bo'lish: {bolish}\")"
      ]
    }
  ]
}